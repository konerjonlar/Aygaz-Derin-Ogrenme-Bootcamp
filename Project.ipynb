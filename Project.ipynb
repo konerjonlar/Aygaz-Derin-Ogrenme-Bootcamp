{
  "nbformat": 4,
  "nbformat_minor": 0,
  "metadata": {
    "colab": {
      "provenance": [],
      "toc_visible": true,
      "authorship_tag": "ABX9TyORavLeTav9PbephUkTFa8Z",
      "include_colab_link": true
    },
    "kernelspec": {
      "name": "python3",
      "display_name": "Python 3"
    },
    "language_info": {
      "name": "python"
    }
  },
  "cells": [
    {
      "cell_type": "markdown",
      "metadata": {
        "id": "view-in-github",
        "colab_type": "text"
      },
      "source": [
        "<a href=\"https://colab.research.google.com/github/konerjonlar/Aygaz-Derin-Ogrenme-Bootcamp/blob/main/Project.ipynb\" target=\"_parent\"><img src=\"https://colab.research.google.com/assets/colab-badge.svg\" alt=\"Open In Colab\"/></a>"
      ]
    },
    {
      "cell_type": "markdown",
      "source": [
        "# Importing Required Libraries"
      ],
      "metadata": {
        "id": "zu0oqRjPKMhp"
      }
    },
    {
      "cell_type": "markdown",
      "source": [
        "\n",
        "\n",
        "\n",
        "*   Import Pandas, NumPy, Seaborn, Matplotlib, Sklearn and Tensorflow libraries for\n",
        "data analysis.\n",
        "\n"
      ],
      "metadata": {
        "id": "rMtZg2kELBPQ"
      }
    },
    {
      "cell_type": "code",
      "source": [],
      "metadata": {
        "id": "7_t6aeoVLSaI"
      },
      "execution_count": null,
      "outputs": []
    },
    {
      "cell_type": "markdown",
      "source": [
        "# Data Preprocessing"
      ],
      "metadata": {
        "id": "yV7YH6IPKNl6"
      }
    },
    {
      "cell_type": "markdown",
      "source": [
        "* Create a dataframe that includes pixel values of images and the labels"
      ],
      "metadata": {
        "id": "U5zOiwNpLRU4"
      }
    },
    {
      "cell_type": "code",
      "source": [],
      "metadata": {
        "id": "zNg57595Ld2S"
      },
      "execution_count": null,
      "outputs": []
    },
    {
      "cell_type": "markdown",
      "source": [
        "* Use Label Encoding or One-Hot Encoding techniques to deal with categorical\n",
        "targets."
      ],
      "metadata": {
        "id": "BhxF3Q93LeWT"
      }
    },
    {
      "cell_type": "code",
      "source": [],
      "metadata": {
        "id": "VrwvALggLiDt"
      },
      "execution_count": null,
      "outputs": []
    },
    {
      "cell_type": "markdown",
      "source": [
        "* Split your dataset into X_train,X_test, X_val, y_train, y_test and y_val"
      ],
      "metadata": {
        "id": "iIZNTVLVLi9m"
      }
    },
    {
      "cell_type": "code",
      "source": [],
      "metadata": {
        "id": "Ll4b9YYLLnZR"
      },
      "execution_count": null,
      "outputs": []
    },
    {
      "cell_type": "markdown",
      "source": [
        "* Normalize the pixel values."
      ],
      "metadata": {
        "id": "ZrhettERLqJG"
      }
    },
    {
      "cell_type": "code",
      "source": [],
      "metadata": {
        "id": "RKXHbgCkLs6G"
      },
      "execution_count": null,
      "outputs": []
    },
    {
      "cell_type": "markdown",
      "source": [
        "# Building a Model"
      ],
      "metadata": {
        "id": "16StnM1KKN8U"
      }
    },
    {
      "cell_type": "markdown",
      "source": [
        "* Build a model using Tensorflow or Pytorch"
      ],
      "metadata": {
        "id": "Sqd6iU9_Lvuv"
      }
    },
    {
      "cell_type": "code",
      "source": [],
      "metadata": {
        "id": "qE8tjh0JLw1Q"
      },
      "execution_count": null,
      "outputs": []
    },
    {
      "cell_type": "markdown",
      "source": [
        "* Your model should include Conv2D, MaxPooling2D, Flatten, Dense(use “Softmax”)  and\n",
        "Dropout.(Number of layers is up to you)"
      ],
      "metadata": {
        "id": "nrp9pZgJLxWh"
      }
    },
    {
      "cell_type": "code",
      "source": [],
      "metadata": {
        "id": "evyOdqeCL2fy"
      },
      "execution_count": null,
      "outputs": []
    },
    {
      "cell_type": "markdown",
      "source": [
        "* Compile your model and print the summary of the model."
      ],
      "metadata": {
        "id": "f6ScSF34L3Bs"
      }
    },
    {
      "cell_type": "code",
      "source": [],
      "metadata": {
        "id": "0f5TLYiHL6Le"
      },
      "execution_count": null,
      "outputs": []
    },
    {
      "cell_type": "markdown",
      "source": [
        "* Train your model using train and validation subsets"
      ],
      "metadata": {
        "id": "Ld3YUMasL6o1"
      }
    },
    {
      "cell_type": "code",
      "source": [],
      "metadata": {
        "id": "cW8HmNpML-1Q"
      },
      "execution_count": null,
      "outputs": []
    },
    {
      "cell_type": "markdown",
      "source": [
        "* Plot model’s accuracy, validation accuracy, loss and validation loss\n"
      ],
      "metadata": {
        "id": "EOnQljHNL_tp"
      }
    },
    {
      "cell_type": "code",
      "source": [],
      "metadata": {
        "id": "You6DA4jMK0o"
      },
      "execution_count": null,
      "outputs": []
    },
    {
      "cell_type": "markdown",
      "source": [
        "# Hyper-parameter Optimization"
      ],
      "metadata": {
        "id": "iSzpaQF_KOWn"
      }
    },
    {
      "cell_type": "markdown",
      "source": [
        "* Optimize the hyper-parameters of the model."
      ],
      "metadata": {
        "id": "t3M88SGoL8-s"
      }
    },
    {
      "cell_type": "code",
      "source": [],
      "metadata": {
        "id": "yPnfTuBeMYhY"
      },
      "execution_count": null,
      "outputs": []
    },
    {
      "cell_type": "markdown",
      "source": [
        "* Train your model with the opitimized parameters and show the results."
      ],
      "metadata": {
        "id": "MGbKpi2tMbnW"
      }
    },
    {
      "cell_type": "code",
      "source": [],
      "metadata": {
        "id": "kzkqEhNDMckC"
      },
      "execution_count": null,
      "outputs": []
    }
  ]
}