{
  "nbformat": 4,
  "nbformat_minor": 0,
  "metadata": {
    "colab": {
      "provenance": [],
      "authorship_tag": "ABX9TyNMdUC2K+tj+LG+SvS/xNE/",
      "include_colab_link": true
    },
    "kernelspec": {
      "name": "python3",
      "display_name": "Python 3"
    },
    "language_info": {
      "name": "python"
    }
  },
  "cells": [
    {
      "cell_type": "markdown",
      "metadata": {
        "id": "view-in-github",
        "colab_type": "text"
      },
      "source": [
        "<a href=\"https://colab.research.google.com/github/konerjonlar/Aygaz-Derin-Ogrenme-Bootcamp/blob/main/Project.ipynb\" target=\"_parent\"><img src=\"https://colab.research.google.com/assets/colab-badge.svg\" alt=\"Open In Colab\"/></a>"
      ]
    },
    {
      "cell_type": "code",
      "source": [
        "\"\"\"\n",
        "# upload images file to content\n",
        "! pip install kaggle\n",
        "! cp kaggle.json ~/.kaggle/\n",
        "! chmod 600 ~/.kaggle/kaggle.json\n",
        "! kaggle datasets download -d amandam1/120-dog-breeds-breed-classification\n",
        "! unzip 120-dog-breeds-breed-classification.zip -d .\n",
        "\"\"\"\n"
      ],
      "metadata": {
        "colab": {
          "base_uri": "https://localhost:8080/",
          "height": 53
        },
        "id": "e8SEOJo3XVNU",
        "outputId": "df0a4e9c-8e4a-4651-c3b6-94cc65d7b85a"
      },
      "execution_count": 31,
      "outputs": [
        {
          "output_type": "execute_result",
          "data": {
            "text/plain": [
              "'\\n# upload images file to content\\n! pip install kaggle\\n! cp kaggle.json ~/.kaggle/\\n! chmod 600 ~/.kaggle/kaggle.json\\n! kaggle datasets download -d amandam1/120-dog-breeds-breed-classification\\n! unzip 120-dog-breeds-breed-classification.zip -d .\\n'"
            ],
            "application/vnd.google.colaboratory.intrinsic+json": {
              "type": "string"
            }
          },
          "metadata": {},
          "execution_count": 31
        }
      ]
    },
    {
      "cell_type": "markdown",
      "source": [
        "# Importing Required Libraries"
      ],
      "metadata": {
        "id": "zu0oqRjPKMhp"
      }
    },
    {
      "cell_type": "markdown",
      "source": [
        "\n",
        "\n",
        "\n",
        "*   Import Pandas, NumPy, Seaborn, Matplotlib, Sklearn and Tensorflow libraries for\n",
        "data analysis.\n",
        "\n"
      ],
      "metadata": {
        "id": "rMtZg2kELBPQ"
      }
    },
    {
      "cell_type": "code",
      "source": [
        "import pandas as pd\n",
        "import numpy as np\n",
        "import seaborn as sns\n",
        "import os\n",
        "import cv2\n",
        "import matplotlib.pyplot as plt\n",
        "from sklearn.preprocessing import LabelEncoder, OneHotEncoder\n",
        "from sklearn.model_selection import train_test_split\n",
        "import tensorflow as tf\n",
        "from keras.layers import Conv2D, MaxPooling2D, Flatten, Dense, Dropout"
      ],
      "metadata": {
        "id": "7_t6aeoVLSaI"
      },
      "execution_count": 27,
      "outputs": []
    },
    {
      "cell_type": "markdown",
      "source": [
        "# Data Preprocessing"
      ],
      "metadata": {
        "id": "yV7YH6IPKNl6"
      }
    },
    {
      "cell_type": "markdown",
      "source": [
        "* Create a dataframe that includes pixel values of images and the labels"
      ],
      "metadata": {
        "id": "U5zOiwNpLRU4"
      }
    },
    {
      "cell_type": "code",
      "source": [
        "\"\"\"\n",
        "# Main folder path\n",
        "main_folder_path = \"/content/Images\"  # Specify the actual path\n",
        "\n",
        "# Creating empty lists for DataFrame\n",
        "data = {'Label': [], 'Pixels': []}\n",
        "\n",
        "# Iterating through subfolders of dog breeds in the main folder\n",
        "for folder_name in os.listdir(main_folder_path):\n",
        "    folder_path = os.path.join(main_folder_path, folder_name)\n",
        "\n",
        "    # Getting the path of images in the subfolder\n",
        "    for file_name in os.listdir(folder_path):\n",
        "        file_path = os.path.join(folder_path, file_name)\n",
        "\n",
        "        # Opening the image\n",
        "        img = cv2.imread(file_path)\n",
        "\n",
        "        # !!!!!!!! Converting the image to grayscale\n",
        "        gray_img = cv2.cvtColor(img, cv2.COLOR_BGR2GRAY)\n",
        "\n",
        "        # Flattening the image\n",
        "        flat_img = gray_img.flatten()\n",
        "\n",
        "        # Adding data to the DataFrame\n",
        "        data['Label'].append(folder_name)\n",
        "        data['Pixels'].append(flat_img)\n",
        "\n",
        "# Creating a DataFrame\n",
        "df = pd.DataFrame(data)\n",
        "\n",
        "# Showing the first five rows\n",
        "print(df.head())\n",
        "\n",
        "csv_folder_path = \"/content/dataset.csv\"\n",
        "df.to_csv(csv_folder_path, index=False)\n",
        "\"\"\""
      ],
      "metadata": {
        "colab": {
          "base_uri": "https://localhost:8080/"
        },
        "id": "m5LCGwm9U4le",
        "outputId": "5e304d11-64cc-4220-bb17-583408e7653c"
      },
      "execution_count": 36,
      "outputs": [
        {
          "output_type": "stream",
          "name": "stdout",
          "text": [
            "             Label                                             Pixels\n",
            "0  n02098413-Lhasa  [214, 211, 208, 207, 207, 205, 202, 198, 215, ...\n",
            "1  n02098413-Lhasa  [51, 69, 75, 61, 50, 53, 52, 44, 45, 44, 34, 2...\n",
            "2  n02098413-Lhasa  [58, 58, 58, 58, 58, 58, 58, 58, 58, 58, 58, 5...\n",
            "3  n02098413-Lhasa  [2, 2, 2, 2, 2, 2, 2, 2, 1, 2, 3, 4, 4, 4, 4, ...\n",
            "4  n02098413-Lhasa  [228, 232, 232, 231, 235, 245, 250, 252, 253, ...\n"
          ]
        }
      ]
    },
    {
      "cell_type": "code",
      "source": [
        "df = pd.read_csv(\"dataset.csv\")\n",
        "# Showing the first five rows\n",
        "print(df.head())"
      ],
      "metadata": {
        "colab": {
          "base_uri": "https://localhost:8080/"
        },
        "id": "ixaoQp_kjk4B",
        "outputId": "de81d041-6466-44ce-f57c-b814009ff574"
      },
      "execution_count": 34,
      "outputs": [
        {
          "output_type": "stream",
          "name": "stdout",
          "text": [
            "             Label                         Pixels\n",
            "0  n02098413-Lhasa  [214 211 208 ...  80  83  81]\n",
            "1  n02098413-Lhasa        [51 69 75 ... 64 62 60]\n",
            "2  n02098413-Lhasa  [ 58  58  58 ...  77  90 100]\n",
            "3  n02098413-Lhasa  [  2   2   2 ... 105 105 104]\n",
            "4  n02098413-Lhasa  [228 232 232 ...  11  12  13]\n"
          ]
        }
      ]
    },
    {
      "cell_type": "markdown",
      "source": [
        "* Use Label Encoding or One-Hot Encoding techniques to deal with categorical\n",
        "targets."
      ],
      "metadata": {
        "id": "BhxF3Q93LeWT"
      }
    },
    {
      "cell_type": "code",
      "source": [],
      "metadata": {
        "id": "VrwvALggLiDt"
      },
      "execution_count": null,
      "outputs": []
    },
    {
      "cell_type": "markdown",
      "source": [
        "* Split your dataset into X_train,X_test, X_val, y_train, y_test and y_val"
      ],
      "metadata": {
        "id": "iIZNTVLVLi9m"
      }
    },
    {
      "cell_type": "code",
      "source": [],
      "metadata": {
        "id": "Ll4b9YYLLnZR"
      },
      "execution_count": null,
      "outputs": []
    },
    {
      "cell_type": "markdown",
      "source": [
        "* Normalize the pixel values."
      ],
      "metadata": {
        "id": "ZrhettERLqJG"
      }
    },
    {
      "cell_type": "code",
      "source": [],
      "metadata": {
        "id": "RKXHbgCkLs6G"
      },
      "execution_count": null,
      "outputs": []
    },
    {
      "cell_type": "markdown",
      "source": [
        "# Building a Model"
      ],
      "metadata": {
        "id": "16StnM1KKN8U"
      }
    },
    {
      "cell_type": "markdown",
      "source": [
        "* Build a model using Tensorflow or Pytorch"
      ],
      "metadata": {
        "id": "Sqd6iU9_Lvuv"
      }
    },
    {
      "cell_type": "code",
      "source": [],
      "metadata": {
        "id": "qE8tjh0JLw1Q"
      },
      "execution_count": null,
      "outputs": []
    },
    {
      "cell_type": "markdown",
      "source": [
        "* Your model should include Conv2D, MaxPooling2D, Flatten, Dense(use “Softmax”)  and\n",
        "Dropout.(Number of layers is up to you)"
      ],
      "metadata": {
        "id": "nrp9pZgJLxWh"
      }
    },
    {
      "cell_type": "code",
      "source": [
        "# layer = tf.keras.layers.Dense(32, activation=tf.keras.activations.softmax)"
      ],
      "metadata": {
        "id": "evyOdqeCL2fy"
      },
      "execution_count": null,
      "outputs": []
    },
    {
      "cell_type": "markdown",
      "source": [
        "* Compile your model and print the summary of the model."
      ],
      "metadata": {
        "id": "f6ScSF34L3Bs"
      }
    },
    {
      "cell_type": "code",
      "source": [],
      "metadata": {
        "id": "0f5TLYiHL6Le"
      },
      "execution_count": null,
      "outputs": []
    },
    {
      "cell_type": "markdown",
      "source": [
        "* Train your model using train and validation subsets"
      ],
      "metadata": {
        "id": "Ld3YUMasL6o1"
      }
    },
    {
      "cell_type": "code",
      "source": [],
      "metadata": {
        "id": "cW8HmNpML-1Q"
      },
      "execution_count": null,
      "outputs": []
    },
    {
      "cell_type": "markdown",
      "source": [
        "* Plot model’s accuracy, validation accuracy, loss and validation loss\n"
      ],
      "metadata": {
        "id": "EOnQljHNL_tp"
      }
    },
    {
      "cell_type": "code",
      "source": [],
      "metadata": {
        "id": "You6DA4jMK0o"
      },
      "execution_count": null,
      "outputs": []
    },
    {
      "cell_type": "markdown",
      "source": [
        "# Hyper-parameter Optimization"
      ],
      "metadata": {
        "id": "iSzpaQF_KOWn"
      }
    },
    {
      "cell_type": "markdown",
      "source": [
        "* Optimize the hyper-parameters of the model."
      ],
      "metadata": {
        "id": "t3M88SGoL8-s"
      }
    },
    {
      "cell_type": "code",
      "source": [],
      "metadata": {
        "id": "yPnfTuBeMYhY"
      },
      "execution_count": null,
      "outputs": []
    },
    {
      "cell_type": "markdown",
      "source": [
        "* Train your model with the opitimized parameters and show the results."
      ],
      "metadata": {
        "id": "MGbKpi2tMbnW"
      }
    },
    {
      "cell_type": "code",
      "source": [],
      "metadata": {
        "id": "kzkqEhNDMckC"
      },
      "execution_count": null,
      "outputs": []
    }
  ]
}